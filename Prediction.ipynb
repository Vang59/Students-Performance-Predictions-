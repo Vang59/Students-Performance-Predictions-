{
 "cells": [
  {
   "cell_type": "code",
   "execution_count": 23,
   "metadata": {},
   "outputs": [],
   "source": [
    "# Imports \n",
    "import pandas as pd\n",
    "import numpy as np\n",
    "from imblearn.under_sampling import RandomUnderSampler\n",
    "from imblearn.over_sampling import RandomOverSampler\n",
    "from sklearn.model_selection import train_test_split\n",
    "from sklearn.tree import DecisionTreeRegressor\n",
    "from sklearn.metrics import r2_score\n",
    "import hvplot.pandas"
   ]
  },
  {
   "cell_type": "code",
   "execution_count": 24,
   "metadata": {},
   "outputs": [
    {
     "data": {
      "text/html": [
       "<div>\n",
       "<style scoped>\n",
       "    .dataframe tbody tr th:only-of-type {\n",
       "        vertical-align: middle;\n",
       "    }\n",
       "\n",
       "    .dataframe tbody tr th {\n",
       "        vertical-align: top;\n",
       "    }\n",
       "\n",
       "    .dataframe thead th {\n",
       "        text-align: right;\n",
       "    }\n",
       "</style>\n",
       "<table border=\"1\" class=\"dataframe\">\n",
       "  <thead>\n",
       "    <tr style=\"text-align: right;\">\n",
       "      <th></th>\n",
       "      <th>gender</th>\n",
       "      <th>race/ethnicity</th>\n",
       "      <th>parental level of education</th>\n",
       "      <th>lunch</th>\n",
       "      <th>test preparation course</th>\n",
       "      <th>math score</th>\n",
       "      <th>reading score</th>\n",
       "      <th>writing score</th>\n",
       "    </tr>\n",
       "  </thead>\n",
       "  <tbody>\n",
       "    <tr>\n",
       "      <th>0</th>\n",
       "      <td>0</td>\n",
       "      <td>3</td>\n",
       "      <td>4</td>\n",
       "      <td>1</td>\n",
       "      <td>0</td>\n",
       "      <td>59</td>\n",
       "      <td>70</td>\n",
       "      <td>78</td>\n",
       "    </tr>\n",
       "    <tr>\n",
       "      <th>1</th>\n",
       "      <td>1</td>\n",
       "      <td>3</td>\n",
       "      <td>0</td>\n",
       "      <td>1</td>\n",
       "      <td>1</td>\n",
       "      <td>96</td>\n",
       "      <td>93</td>\n",
       "      <td>87</td>\n",
       "    </tr>\n",
       "    <tr>\n",
       "      <th>2</th>\n",
       "      <td>0</td>\n",
       "      <td>3</td>\n",
       "      <td>4</td>\n",
       "      <td>0</td>\n",
       "      <td>1</td>\n",
       "      <td>57</td>\n",
       "      <td>76</td>\n",
       "      <td>77</td>\n",
       "    </tr>\n",
       "    <tr>\n",
       "      <th>3</th>\n",
       "      <td>1</td>\n",
       "      <td>1</td>\n",
       "      <td>4</td>\n",
       "      <td>0</td>\n",
       "      <td>1</td>\n",
       "      <td>70</td>\n",
       "      <td>70</td>\n",
       "      <td>63</td>\n",
       "    </tr>\n",
       "    <tr>\n",
       "      <th>4</th>\n",
       "      <td>0</td>\n",
       "      <td>3</td>\n",
       "      <td>0</td>\n",
       "      <td>1</td>\n",
       "      <td>1</td>\n",
       "      <td>83</td>\n",
       "      <td>85</td>\n",
       "      <td>86</td>\n",
       "    </tr>\n",
       "  </tbody>\n",
       "</table>\n",
       "</div>"
      ],
      "text/plain": [
       "   gender  race/ethnicity  parental level of education  lunch  \\\n",
       "0       0               3                            4      1   \n",
       "1       1               3                            0      1   \n",
       "2       0               3                            4      0   \n",
       "3       1               1                            4      0   \n",
       "4       0               3                            0      1   \n",
       "\n",
       "   test preparation course  math score  reading score  writing score  \n",
       "0                        0          59             70             78  \n",
       "1                        1          96             93             87  \n",
       "2                        1          57             76             77  \n",
       "3                        1          70             70             63  \n",
       "4                        1          83             85             86  "
      ]
     },
     "execution_count": 24,
     "metadata": {},
     "output_type": "execute_result"
    }
   ],
   "source": [
    "# Read updated csv\n",
    "df2 = pd.read_csv('Resources/Student_DataType_Conversion.csv')\n",
    "df2.head()"
   ]
  },
  {
   "attachments": {},
   "cell_type": "markdown",
   "metadata": {},
   "source": [
    "## Math Scores"
   ]
  },
  {
   "cell_type": "code",
   "execution_count": 25,
   "metadata": {},
   "outputs": [
    {
     "name": "stdout",
     "output_type": "stream",
     "text": [
      "MATH R-Squared score: 0.82\n"
     ]
    }
   ],
   "source": [
    "# Split data into features and target arrays \n",
    "y = df2[\"math score\"].values\n",
    "X = df2.drop(columns=\"math score\").values\n",
    "\n",
    "# Instantiate the random undersampler model and fit the data \n",
    "rus = RandomUnderSampler(random_state=42)\n",
    "X_resampled, y_resampled = rus.fit_resample(X, y) \n",
    "\n",
    "# Split data into training and testing dataset \n",
    "X_train, X_test, y_train, y_test = train_test_split(X_resampled, y_resampled, random_state=42)\n",
    "\n",
    "# Instantiate the DecisionTreeRegressor and fit the data \n",
    "dtr = DecisionTreeRegressor(random_state=42)\n",
    "dtr.fit(X_train, y_train)\n",
    "\n",
    "# Make a prediction using X_test\n",
    "y_pred = dtr.predict(X_test)\n",
    "\n",
    "# Find the R-Squared score\n",
    "r2 = r2_score(y_test, y_pred)\n",
    "print(\"MATH R-Squared score:\", round(r2, 2))"
   ]
  },
  {
   "cell_type": "code",
   "execution_count": 26,
   "metadata": {},
   "outputs": [
    {
     "data": {},
     "metadata": {},
     "output_type": "display_data"
    },
    {
     "data": {
      "application/vnd.holoviews_exec.v0+json": "",
      "text/html": [
       "<div id='2382'>\n",
       "\n",
       "\n",
       "\n",
       "\n",
       "\n",
       "  <div class=\"bk-root\" id=\"c8d81eae-2eeb-410b-9aa8-4bcbc4639fb6\" data-root-id=\"2382\"></div>\n",
       "</div>\n",
       "<script type=\"application/javascript\">(function(root) {\n",
       "  function embed_document(root) {\n",
       "    var docs_json = {\"3a648ae6-27eb-4d44-afb0-4243c753ac6c\":{\"defs\":[{\"extends\":null,\"module\":null,\"name\":\"ReactiveHTML1\",\"overrides\":[],\"properties\":[]},{\"extends\":null,\"module\":null,\"name\":\"FlexBox1\",\"overrides\":[],\"properties\":[{\"default\":\"flex-start\",\"kind\":null,\"name\":\"align_content\"},{\"default\":\"flex-start\",\"kind\":null,\"name\":\"align_items\"},{\"default\":\"row\",\"kind\":null,\"name\":\"flex_direction\"},{\"default\":\"wrap\",\"kind\":null,\"name\":\"flex_wrap\"},{\"default\":\"flex-start\",\"kind\":null,\"name\":\"justify_content\"}]},{\"extends\":null,\"module\":null,\"name\":\"TemplateActions1\",\"overrides\":[],\"properties\":[{\"default\":0,\"kind\":null,\"name\":\"open_modal\"},{\"default\":0,\"kind\":null,\"name\":\"close_modal\"}]},{\"extends\":null,\"module\":null,\"name\":\"MaterialTemplateActions1\",\"overrides\":[],\"properties\":[{\"default\":0,\"kind\":null,\"name\":\"open_modal\"},{\"default\":0,\"kind\":null,\"name\":\"close_modal\"}]}],\"roots\":{\"references\":[{\"attributes\":{},\"id\":\"2423\",\"type\":\"AllLabels\"},{\"attributes\":{\"axis\":{\"id\":\"2401\"},\"coordinates\":null,\"dimension\":1,\"grid_line_color\":null,\"group\":null,\"ticker\":null},\"id\":\"2404\",\"type\":\"Grid\"},{\"attributes\":{},\"id\":\"2434\",\"type\":\"Selection\"},{\"attributes\":{},\"id\":\"2406\",\"type\":\"PanTool\"},{\"attributes\":{},\"id\":\"2451\",\"type\":\"UnionRenderers\"},{\"attributes\":{},\"id\":\"2420\",\"type\":\"AllLabels\"},{\"attributes\":{\"children\":[{\"id\":\"2383\"},{\"id\":\"2388\"},{\"id\":\"2550\"}],\"margin\":[0,0,0,0],\"name\":\"Row04608\",\"tags\":[\"embedded\"]},\"id\":\"2382\",\"type\":\"Row\"},{\"attributes\":{\"axis_label\":\"Predicted Values\",\"coordinates\":null,\"formatter\":{\"id\":\"2422\"},\"group\":null,\"major_label_policy\":{\"id\":\"2423\"},\"ticker\":{\"id\":\"2402\"}},\"id\":\"2401\",\"type\":\"LinearAxis\"},{\"attributes\":{},\"id\":\"2402\",\"type\":\"BasicTicker\"},{\"attributes\":{},\"id\":\"2407\",\"type\":\"WheelZoomTool\"},{\"attributes\":{},\"id\":\"2405\",\"type\":\"SaveTool\"},{\"attributes\":{\"overlay\":{\"id\":\"2410\"}},\"id\":\"2408\",\"type\":\"BoxZoomTool\"},{\"attributes\":{\"line_alpha\":0.2,\"line_color\":\"red\",\"line_width\":2,\"x\":{\"field\":\"Actual Values\"},\"y\":{\"field\":\"Predicted Values\"}},\"id\":\"2438\",\"type\":\"Line\"},{\"attributes\":{\"margin\":[5,5,5,5],\"name\":\"HSpacer04613\",\"sizing_mode\":\"stretch_width\"},\"id\":\"2550\",\"type\":\"Spacer\"},{\"attributes\":{},\"id\":\"2409\",\"type\":\"ResetTool\"},{\"attributes\":{\"bottom_units\":\"screen\",\"coordinates\":null,\"fill_alpha\":0.5,\"fill_color\":\"lightgrey\",\"group\":null,\"left_units\":\"screen\",\"level\":\"overlay\",\"line_alpha\":1.0,\"line_color\":\"black\",\"line_dash\":[4,4],\"line_width\":2,\"right_units\":\"screen\",\"syncable\":false,\"top_units\":\"screen\"},\"id\":\"2410\",\"type\":\"BoxAnnotation\"},{\"attributes\":{\"end\":106.84478769554357,\"reset_end\":106.84478769554357,\"reset_start\":12.707335349020653,\"start\":12.707335349020653,\"tags\":[[[\"Predicted Values\",\"Predicted Values\",null]]]},\"id\":\"2385\",\"type\":\"Range1d\"},{\"attributes\":{\"data\":{\"Actual Values\":[52,15,44,53,40,50,32,92,24,34,71,55,89,57,90,67,95,83,77,62],\"Actual_Values\":[52,15,44,53,40,50,32,92,24,34,71,55,89,57,90,67,95,83,77,62],\"Predicted Values\":{\"__ndarray__\":\"AAAAAAAAS0AAAAAAAABCQAAAAAAAgE9AAAAAAACASUAAAAAAAABFQAAAAAAAgEBAAAAAAAAANUAAAAAAAIBUQAAAAAAAAD5AAAAAAAAAP0AAAAAAAIBRQAAAAAAAAE5AAAAAAADAWEAAAAAAAABQQAAAAAAAgFhAAAAAAACAUUAAAAAAAABVQAAAAAAAgFRAAAAAAAAAVEAAAAAAAABIQA==\",\"dtype\":\"float64\",\"order\":\"little\",\"shape\":[20]},\"Predicted_Values\":{\"__ndarray__\":\"AAAAAAAAS0AAAAAAAABCQAAAAAAAgE9AAAAAAACASUAAAAAAAABFQAAAAAAAgEBAAAAAAAAANUAAAAAAAIBUQAAAAAAAAD5AAAAAAAAAP0AAAAAAAIBRQAAAAAAAAE5AAAAAAADAWEAAAAAAAABQQAAAAAAAgFhAAAAAAACAUUAAAAAAAABVQAAAAAAAgFRAAAAAAAAAVEAAAAAAAABIQA==\",\"dtype\":\"float64\",\"order\":\"little\",\"shape\":[20]}},\"selected\":{\"id\":\"2425\"},\"selection_policy\":{\"id\":\"2449\"}},\"id\":\"2424\",\"type\":\"ColumnDataSource\"},{\"attributes\":{},\"id\":\"2422\",\"type\":\"BasicTickFormatter\"},{\"attributes\":{\"source\":{\"id\":\"2433\"}},\"id\":\"2440\",\"type\":\"CDSView\"},{\"attributes\":{\"axis_label\":\"Actual Values\",\"coordinates\":null,\"formatter\":{\"id\":\"2419\"},\"group\":null,\"major_label_policy\":{\"id\":\"2420\"},\"ticker\":{\"id\":\"2398\"}},\"id\":\"2397\",\"type\":\"LinearAxis\"},{\"attributes\":{\"below\":[{\"id\":\"2397\"}],\"center\":[{\"id\":\"2400\"},{\"id\":\"2404\"}],\"height\":300,\"left\":[{\"id\":\"2401\"}],\"margin\":[5,5,5,5],\"min_border_bottom\":10,\"min_border_left\":10,\"min_border_right\":10,\"min_border_top\":10,\"renderers\":[{\"id\":\"2430\"},{\"id\":\"2439\"}],\"sizing_mode\":\"fixed\",\"title\":{\"id\":\"2389\"},\"toolbar\":{\"id\":\"2411\"},\"width\":700,\"x_range\":{\"id\":\"2384\"},\"x_scale\":{\"id\":\"2393\"},\"y_range\":{\"id\":\"2385\"},\"y_scale\":{\"id\":\"2395\"}},\"id\":\"2388\",\"subtype\":\"Figure\",\"type\":\"Plot\"},{\"attributes\":{\"coordinates\":null,\"data_source\":{\"id\":\"2433\"},\"glyph\":{\"id\":\"2436\"},\"group\":null,\"hover_glyph\":null,\"muted_glyph\":{\"id\":\"2438\"},\"nonselection_glyph\":{\"id\":\"2437\"},\"selection_glyph\":{\"id\":\"2441\"},\"view\":{\"id\":\"2440\"}},\"id\":\"2439\",\"type\":\"GlyphRenderer\"},{\"attributes\":{\"line_color\":\"red\",\"line_width\":2,\"x\":{\"field\":\"Actual Values\"},\"y\":{\"field\":\"Predicted Values\"}},\"id\":\"2436\",\"type\":\"Line\"},{\"attributes\":{\"angle\":{\"value\":0.0},\"fill_alpha\":{\"value\":1.0},\"fill_color\":{\"value\":\"#30a2da\"},\"hatch_alpha\":{\"value\":1.0},\"hatch_color\":{\"value\":\"#30a2da\"},\"hatch_scale\":{\"value\":12.0},\"hatch_weight\":{\"value\":1.0},\"line_alpha\":{\"value\":1.0},\"line_cap\":{\"value\":\"butt\"},\"line_color\":{\"value\":\"#30a2da\"},\"line_dash\":{\"value\":[]},\"line_dash_offset\":{\"value\":0},\"line_join\":{\"value\":\"bevel\"},\"line_width\":{\"value\":1},\"marker\":{\"value\":\"circle\"},\"size\":{\"value\":5.477225575051661},\"x\":{\"field\":\"Actual Values\"},\"y\":{\"field\":\"Predicted Values\"}},\"id\":\"2432\",\"type\":\"Scatter\"},{\"attributes\":{\"end\":98.42857142857143,\"reset_end\":98.42857142857143,\"reset_start\":11.571428571428571,\"start\":11.571428571428571,\"tags\":[[[\"Actual Values\",\"Actual Values\",null]]]},\"id\":\"2384\",\"type\":\"Range1d\"},{\"attributes\":{\"line_alpha\":0.1,\"line_color\":\"red\",\"line_width\":2,\"x\":{\"field\":\"Actual Values\"},\"y\":{\"field\":\"Predicted Values\"}},\"id\":\"2437\",\"type\":\"Line\"},{\"attributes\":{},\"id\":\"2393\",\"type\":\"LinearScale\"},{\"attributes\":{},\"id\":\"2449\",\"type\":\"UnionRenderers\"},{\"attributes\":{\"coordinates\":null,\"group\":null,\"text\":\"MATH r^2 score: 0.82\",\"text_color\":\"black\",\"text_font_size\":\"12pt\"},\"id\":\"2389\",\"type\":\"Title\"},{\"attributes\":{\"coordinates\":null,\"data_source\":{\"id\":\"2424\"},\"glyph\":{\"id\":\"2427\"},\"group\":null,\"hover_glyph\":null,\"muted_glyph\":{\"id\":\"2429\"},\"nonselection_glyph\":{\"id\":\"2428\"},\"selection_glyph\":{\"id\":\"2432\"},\"view\":{\"id\":\"2431\"}},\"id\":\"2430\",\"type\":\"GlyphRenderer\"},{\"attributes\":{\"line_color\":\"red\",\"line_width\":2,\"x\":{\"field\":\"Actual Values\"},\"y\":{\"field\":\"Predicted Values\"}},\"id\":\"2441\",\"type\":\"Line\"},{\"attributes\":{\"data\":{\"Actual Values\":[52,15,44,53,40,50,32,92,24,34,71,55,89,57,90,67,95,83,77,62],\"Actual_Values\":[52,15,44,53,40,50,32,92,24,34,71,55,89,57,90,67,95,83,77,62],\"Predicted Values\":{\"__ndarray__\":\"WiNJk1TISkB1xZPvV400QE0cBKmsNkdAPMSRkIk6S0DGmOGz2G1FQJfht5jq40lAuJGcyTDcQUBPI1ETTlBWQFMVr74RlTxAe9MtxJrAQkANitavIaFRQAAGI4vzHkxA/DFkl/6kVUDDR7SFXQNNQG2CCBYZ3lVASkhFtbe8UECiFD6PnftWQFdPip9fTlRAsmywp8D3UkAsbB94Zj5PQA==\",\"dtype\":\"float64\",\"order\":\"little\",\"shape\":[20]},\"Predicted_Values\":{\"__ndarray__\":\"WiNJk1TISkB1xZPvV400QE0cBKmsNkdAPMSRkIk6S0DGmOGz2G1FQJfht5jq40lAuJGcyTDcQUBPI1ETTlBWQFMVr74RlTxAe9MtxJrAQkANitavIaFRQAAGI4vzHkxA/DFkl/6kVUDDR7SFXQNNQG2CCBYZ3lVASkhFtbe8UECiFD6PnftWQFdPip9fTlRAsmywp8D3UkAsbB94Zj5PQA==\",\"dtype\":\"float64\",\"order\":\"little\",\"shape\":[20]}},\"selected\":{\"id\":\"2434\"},\"selection_policy\":{\"id\":\"2451\"}},\"id\":\"2433\",\"type\":\"ColumnDataSource\"},{\"attributes\":{\"callback\":null,\"renderers\":[{\"id\":\"2430\"},{\"id\":\"2439\"}],\"tags\":[\"hv_created\"],\"tooltips\":[[\"Actual Values\",\"@{Actual_Values}\"],[\"Predicted Values\",\"@{Predicted_Values}\"]]},\"id\":\"2386\",\"type\":\"HoverTool\"},{\"attributes\":{},\"id\":\"2425\",\"type\":\"Selection\"},{\"attributes\":{\"tools\":[{\"id\":\"2386\"},{\"id\":\"2405\"},{\"id\":\"2406\"},{\"id\":\"2407\"},{\"id\":\"2408\"},{\"id\":\"2409\"}]},\"id\":\"2411\",\"type\":\"Toolbar\"},{\"attributes\":{\"source\":{\"id\":\"2424\"}},\"id\":\"2431\",\"type\":\"CDSView\"},{\"attributes\":{},\"id\":\"2398\",\"type\":\"BasicTicker\"},{\"attributes\":{\"fill_color\":{\"value\":\"#30a2da\"},\"hatch_color\":{\"value\":\"#30a2da\"},\"line_color\":{\"value\":\"#30a2da\"},\"size\":{\"value\":5.477225575051661},\"x\":{\"field\":\"Actual Values\"},\"y\":{\"field\":\"Predicted Values\"}},\"id\":\"2427\",\"type\":\"Scatter\"},{\"attributes\":{},\"id\":\"2395\",\"type\":\"LinearScale\"},{\"attributes\":{},\"id\":\"2419\",\"type\":\"BasicTickFormatter\"},{\"attributes\":{\"fill_alpha\":{\"value\":0.1},\"fill_color\":{\"value\":\"#30a2da\"},\"hatch_alpha\":{\"value\":0.1},\"hatch_color\":{\"value\":\"#30a2da\"},\"line_alpha\":{\"value\":0.1},\"line_color\":{\"value\":\"#30a2da\"},\"size\":{\"value\":5.477225575051661},\"x\":{\"field\":\"Actual Values\"},\"y\":{\"field\":\"Predicted Values\"}},\"id\":\"2428\",\"type\":\"Scatter\"},{\"attributes\":{\"margin\":[5,5,5,5],\"name\":\"HSpacer04612\",\"sizing_mode\":\"stretch_width\"},\"id\":\"2383\",\"type\":\"Spacer\"},{\"attributes\":{\"axis\":{\"id\":\"2397\"},\"coordinates\":null,\"grid_line_color\":null,\"group\":null,\"ticker\":null},\"id\":\"2400\",\"type\":\"Grid\"},{\"attributes\":{\"fill_alpha\":{\"value\":0.2},\"fill_color\":{\"value\":\"#30a2da\"},\"hatch_alpha\":{\"value\":0.2},\"hatch_color\":{\"value\":\"#30a2da\"},\"line_alpha\":{\"value\":0.2},\"line_color\":{\"value\":\"#30a2da\"},\"size\":{\"value\":5.477225575051661},\"x\":{\"field\":\"Actual Values\"},\"y\":{\"field\":\"Predicted Values\"}},\"id\":\"2429\",\"type\":\"Scatter\"}],\"root_ids\":[\"2382\"]},\"title\":\"Bokeh Application\",\"version\":\"2.4.2\"}};\n",
       "    var render_items = [{\"docid\":\"3a648ae6-27eb-4d44-afb0-4243c753ac6c\",\"root_ids\":[\"2382\"],\"roots\":{\"2382\":\"c8d81eae-2eeb-410b-9aa8-4bcbc4639fb6\"}}];\n",
       "    root.Bokeh.embed.embed_items_notebook(docs_json, render_items);\n",
       "  }\n",
       "  if (root.Bokeh !== undefined && root.Bokeh.Panel !== undefined) {\n",
       "    embed_document(root);\n",
       "  } else {\n",
       "    var attempts = 0;\n",
       "    var timer = setInterval(function(root) {\n",
       "      if (root.Bokeh !== undefined && root.Bokeh.Panel !== undefined) {\n",
       "        clearInterval(timer);\n",
       "        embed_document(root);\n",
       "      } else if (document.readyState == \"complete\") {\n",
       "        attempts++;\n",
       "        if (attempts > 200) {\n",
       "          clearInterval(timer);\n",
       "          console.log(\"Bokeh: ERROR: Unable to run BokehJS code because BokehJS library is missing\");\n",
       "        }\n",
       "      }\n",
       "    }, 25, root)\n",
       "  }\n",
       "})(window);</script>"
      ],
      "text/plain": [
       ":Overlay\n",
       "   .Scatter.I :Scatter   [Actual Values]   (Predicted Values)\n",
       "   .Curve.I   :Curve   [Actual Values]   (Predicted Values)"
      ]
     },
     "execution_count": 26,
     "metadata": {
      "application/vnd.holoviews_exec.v0+json": {
       "id": "2382"
      }
     },
     "output_type": "execute_result"
    }
   ],
   "source": [
    "# Convert the y_test and y_pred arrays to a DataFrame\n",
    "df = pd.DataFrame({\"Actual Values\": y_test, \"Predicted Values\": y_pred})\n",
    "\n",
    "# Fit a polynomial regression model to the data\n",
    "p = np.polyfit(df[\"Actual Values\"], df[\"Predicted Values\"], 1)\n",
    "reg_line = np.polyval(p, df[\"Actual Values\"])\n",
    "\n",
    "# Create an hvplot scatter plot with a regression line\n",
    "scatter_plot = df.hvplot.scatter(x=\"Actual Values\", y=\"Predicted Values\", title=f\"MATH r^2 score: {r2:.2f}\")\n",
    "reg_line_plot = pd.DataFrame({\"Actual Values\": df[\"Actual Values\"], \"Predicted Values\": reg_line}).hvplot.line(x=\"Actual Values\", y=\"Predicted Values\", color=\"red\")\n",
    "scatter_plot * reg_line_plot"
   ]
  },
  {
   "cell_type": "code",
   "execution_count": 27,
   "metadata": {},
   "outputs": [
    {
     "name": "stdout",
     "output_type": "stream",
     "text": [
      "Predicted math score: 81.0\n"
     ]
    },
    {
     "name": "stderr",
     "output_type": "stream",
     "text": [
      "c:\\Users\\msmar\\anaconda3\\lib\\site-packages\\sklearn\\base.py:443: UserWarning: X has feature names, but DecisionTreeRegressor was fitted without feature names\n",
      "  warnings.warn(\n"
     ]
    }
   ],
   "source": [
    "# Create a dictionary with new values \n",
    "new_data = {\n",
    "    \"gender\": 1,\n",
    "    \"race/ethnicity\": 3,\n",
    "    \"parental level of education\": 5,\n",
    "    \"lunch\": 1,\n",
    "    \"test preparation course\": 0,\n",
    "    \"reading score\": [91],\n",
    "    \"writing score\": [88]\n",
    "}\n",
    "\n",
    "# Convert the dictionary into a DataFrame\n",
    "new_df = pd.DataFrame(new_data)\n",
    "\n",
    "# Make a predicition using new_df\n",
    "math_pred = dtr.predict(new_df)\n",
    "\n",
    "# Find the predicted math scorre\n",
    "print(\"Predicted math score:\", math_pred[0])\n",
    "# Actual score: 82 (less by 1)"
   ]
  },
  {
   "attachments": {},
   "cell_type": "markdown",
   "metadata": {},
   "source": [
    "**Math Scores Analysis**\n",
    "<hr>\n",
    "An r2 score of 0.82 (82%) shows the model is a good fit for the data and can be used to make accurate predictions. However, it is import to note that the remaining 18% of the variance is unexplained and may be due to factors that are not included in the model. When we provided a new set of features to the model, it predicted a math score of 81, but the actual score was 82. "
   ]
  },
  {
   "attachments": {},
   "cell_type": "markdown",
   "metadata": {},
   "source": [
    "## Reading Scores"
   ]
  },
  {
   "cell_type": "code",
   "execution_count": 28,
   "metadata": {},
   "outputs": [
    {
     "name": "stdout",
     "output_type": "stream",
     "text": [
      "READING R-Squared score: 0.98\n"
     ]
    }
   ],
   "source": [
    "# Split data into features and target arrays \n",
    "y = df2[\"reading score\"].values\n",
    "X = df2.drop(columns=\"reading score\").values\n",
    "\n",
    "# Instantiate the random undersampler model and fit the data \n",
    "# rus = RandomUnderSampler(random_state=42)\n",
    "# X_resampled, y_resampled = rus.fit_resample(X, y) \n",
    "\n",
    "# ROS\n",
    "ros = RandomOverSampler(random_state=42)\n",
    "X_resampled, y_resampled = ros.fit_resample(X, y)\n",
    "\n",
    "# Split data into training and testing dataset \n",
    "X_train, X_test, y_train, y_test = train_test_split(X_resampled, y_resampled, random_state=42)\n",
    "\n",
    "# Instantiate the DecisionTreeRegressor and fit the data \n",
    "dtr = DecisionTreeRegressor(random_state=42)\n",
    "dtr.fit(X_train, y_train)\n",
    "\n",
    "# Make a prediction using X_test\n",
    "y_pred = dtr.predict(X_test)\n",
    "\n",
    "# Find the R-Squared score\n",
    "r2 = r2_score(y_test, y_pred)\n",
    "print(\"READING R-Squared score:\", round(r2, 2))"
   ]
  },
  {
   "cell_type": "code",
   "execution_count": 29,
   "metadata": {},
   "outputs": [
    {
     "data": {},
     "metadata": {},
     "output_type": "display_data"
    },
    {
     "data": {
      "application/vnd.holoviews_exec.v0+json": "",
      "text/html": [
       "<div id='2612'>\n",
       "\n",
       "\n",
       "\n",
       "\n",
       "\n",
       "  <div class=\"bk-root\" id=\"aa46c274-bcaf-4136-a909-0281ee267e71\" data-root-id=\"2612\"></div>\n",
       "</div>\n",
       "<script type=\"application/javascript\">(function(root) {\n",
       "  function embed_document(root) {\n",
       "    var docs_json = {\"d33ad62c-a338-4f63-837f-cdc9181cdc11\":{\"defs\":[{\"extends\":null,\"module\":null,\"name\":\"ReactiveHTML1\",\"overrides\":[],\"properties\":[]},{\"extends\":null,\"module\":null,\"name\":\"FlexBox1\",\"overrides\":[],\"properties\":[{\"default\":\"flex-start\",\"kind\":null,\"name\":\"align_content\"},{\"default\":\"flex-start\",\"kind\":null,\"name\":\"align_items\"},{\"default\":\"row\",\"kind\":null,\"name\":\"flex_direction\"},{\"default\":\"wrap\",\"kind\":null,\"name\":\"flex_wrap\"},{\"default\":\"flex-start\",\"kind\":null,\"name\":\"justify_content\"}]},{\"extends\":null,\"module\":null,\"name\":\"TemplateActions1\",\"overrides\":[],\"properties\":[{\"default\":0,\"kind\":null,\"name\":\"open_modal\"},{\"default\":0,\"kind\":null,\"name\":\"close_modal\"}]},{\"extends\":null,\"module\":null,\"name\":\"MaterialTemplateActions1\",\"overrides\":[],\"properties\":[{\"default\":0,\"kind\":null,\"name\":\"open_modal\"},{\"default\":0,\"kind\":null,\"name\":\"close_modal\"}]}],\"roots\":{\"references\":[{\"attributes\":{},\"id\":\"2639\",\"type\":\"ResetTool\"},{\"attributes\":{},\"id\":\"2653\",\"type\":\"AllLabels\"},{\"attributes\":{\"margin\":[5,5,5,5],\"name\":\"HSpacer05097\",\"sizing_mode\":\"stretch_width\"},\"id\":\"2780\",\"type\":\"Spacer\"},{\"attributes\":{\"bottom_units\":\"screen\",\"coordinates\":null,\"fill_alpha\":0.5,\"fill_color\":\"lightgrey\",\"group\":null,\"left_units\":\"screen\",\"level\":\"overlay\",\"line_alpha\":1.0,\"line_color\":\"black\",\"line_dash\":[4,4],\"line_width\":2,\"right_units\":\"screen\",\"syncable\":false,\"top_units\":\"screen\"},\"id\":\"2640\",\"type\":\"BoxAnnotation\"},{\"attributes\":{\"below\":[{\"id\":\"2627\"}],\"center\":[{\"id\":\"2630\"},{\"id\":\"2634\"}],\"height\":300,\"left\":[{\"id\":\"2631\"}],\"margin\":[5,5,5,5],\"min_border_bottom\":10,\"min_border_left\":10,\"min_border_right\":10,\"min_border_top\":10,\"renderers\":[{\"id\":\"2660\"},{\"id\":\"2669\"}],\"sizing_mode\":\"fixed\",\"title\":{\"id\":\"2619\"},\"toolbar\":{\"id\":\"2641\"},\"width\":700,\"x_range\":{\"id\":\"2614\"},\"x_scale\":{\"id\":\"2623\"},\"y_range\":{\"id\":\"2615\"},\"y_scale\":{\"id\":\"2625\"}},\"id\":\"2618\",\"subtype\":\"Figure\",\"type\":\"Plot\"},{\"attributes\":{\"line_alpha\":0.1,\"line_color\":\"red\",\"line_width\":2,\"x\":{\"field\":\"Actual Values\"},\"y\":{\"field\":\"Predicted Values\"}},\"id\":\"2667\",\"type\":\"Line\"},{\"attributes\":{\"end\":107.5,\"reset_end\":107.5,\"reset_start\":17.5,\"start\":17.5,\"tags\":[[[\"Predicted Values\",\"Predicted Values\",null]]]},\"id\":\"2615\",\"type\":\"Range1d\"},{\"attributes\":{\"axis_label\":\"Actual Values\",\"coordinates\":null,\"formatter\":{\"id\":\"2649\"},\"group\":null,\"major_label_policy\":{\"id\":\"2650\"},\"ticker\":{\"id\":\"2628\"}},\"id\":\"2627\",\"type\":\"LinearAxis\"},{\"attributes\":{\"angle\":{\"value\":0.0},\"fill_alpha\":{\"value\":1.0},\"fill_color\":{\"value\":\"#30a2da\"},\"hatch_alpha\":{\"value\":1.0},\"hatch_color\":{\"value\":\"#30a2da\"},\"hatch_scale\":{\"value\":12.0},\"hatch_weight\":{\"value\":1.0},\"line_alpha\":{\"value\":1.0},\"line_cap\":{\"value\":\"butt\"},\"line_color\":{\"value\":\"#30a2da\"},\"line_dash\":{\"value\":[]},\"line_dash_offset\":{\"value\":0},\"line_join\":{\"value\":\"bevel\"},\"line_width\":{\"value\":1},\"marker\":{\"value\":\"circle\"},\"size\":{\"value\":5.477225575051661},\"x\":{\"field\":\"Actual Values\"},\"y\":{\"field\":\"Predicted Values\"}},\"id\":\"2662\",\"type\":\"Scatter\"},{\"attributes\":{\"fill_alpha\":{\"value\":0.1},\"fill_color\":{\"value\":\"#30a2da\"},\"hatch_alpha\":{\"value\":0.1},\"hatch_color\":{\"value\":\"#30a2da\"},\"line_alpha\":{\"value\":0.1},\"line_color\":{\"value\":\"#30a2da\"},\"size\":{\"value\":5.477225575051661},\"x\":{\"field\":\"Actual Values\"},\"y\":{\"field\":\"Predicted Values\"}},\"id\":\"2658\",\"type\":\"Scatter\"},{\"attributes\":{\"line_color\":\"red\",\"line_width\":2,\"x\":{\"field\":\"Actual Values\"},\"y\":{\"field\":\"Predicted Values\"}},\"id\":\"2671\",\"type\":\"Line\"},{\"attributes\":{\"line_color\":\"red\",\"line_width\":2,\"x\":{\"field\":\"Actual Values\"},\"y\":{\"field\":\"Predicted Values\"}},\"id\":\"2666\",\"type\":\"Line\"},{\"attributes\":{\"end\":103.21428571428571,\"reset_end\":103.21428571428571,\"reset_start\":21.785714285714285,\"start\":21.785714285714285,\"tags\":[[[\"Actual Values\",\"Actual Values\",null]]]},\"id\":\"2614\",\"type\":\"Range1d\"},{\"attributes\":{},\"id\":\"2679\",\"type\":\"UnionRenderers\"},{\"attributes\":{},\"id\":\"2655\",\"type\":\"Selection\"},{\"attributes\":{\"source\":{\"id\":\"2654\"}},\"id\":\"2661\",\"type\":\"CDSView\"},{\"attributes\":{\"coordinates\":null,\"data_source\":{\"id\":\"2654\"},\"glyph\":{\"id\":\"2657\"},\"group\":null,\"hover_glyph\":null,\"muted_glyph\":{\"id\":\"2659\"},\"nonselection_glyph\":{\"id\":\"2658\"},\"selection_glyph\":{\"id\":\"2662\"},\"view\":{\"id\":\"2661\"}},\"id\":\"2660\",\"type\":\"GlyphRenderer\"},{\"attributes\":{\"callback\":null,\"renderers\":[{\"id\":\"2660\"},{\"id\":\"2669\"}],\"tags\":[\"hv_created\"],\"tooltips\":[[\"Actual Values\",\"@{Actual_Values}\"],[\"Predicted Values\",\"@{Predicted_Values}\"]]},\"id\":\"2616\",\"type\":\"HoverTool\"},{\"attributes\":{\"tools\":[{\"id\":\"2616\"},{\"id\":\"2635\"},{\"id\":\"2636\"},{\"id\":\"2637\"},{\"id\":\"2638\"},{\"id\":\"2639\"}]},\"id\":\"2641\",\"type\":\"Toolbar\"},{\"attributes\":{\"fill_color\":{\"value\":\"#30a2da\"},\"hatch_color\":{\"value\":\"#30a2da\"},\"line_color\":{\"value\":\"#30a2da\"},\"size\":{\"value\":5.477225575051661},\"x\":{\"field\":\"Actual Values\"},\"y\":{\"field\":\"Predicted Values\"}},\"id\":\"2657\",\"type\":\"Scatter\"},{\"attributes\":{},\"id\":\"2623\",\"type\":\"LinearScale\"},{\"attributes\":{},\"id\":\"2664\",\"type\":\"Selection\"},{\"attributes\":{\"axis\":{\"id\":\"2631\"},\"coordinates\":null,\"dimension\":1,\"grid_line_color\":null,\"group\":null,\"ticker\":null},\"id\":\"2634\",\"type\":\"Grid\"},{\"attributes\":{\"fill_alpha\":{\"value\":0.2},\"fill_color\":{\"value\":\"#30a2da\"},\"hatch_alpha\":{\"value\":0.2},\"hatch_color\":{\"value\":\"#30a2da\"},\"line_alpha\":{\"value\":0.2},\"line_color\":{\"value\":\"#30a2da\"},\"size\":{\"value\":5.477225575051661},\"x\":{\"field\":\"Actual Values\"},\"y\":{\"field\":\"Predicted Values\"}},\"id\":\"2659\",\"type\":\"Scatter\"},{\"attributes\":{\"margin\":[5,5,5,5],\"name\":\"HSpacer05096\",\"sizing_mode\":\"stretch_width\"},\"id\":\"2613\",\"type\":\"Spacer\"},{\"attributes\":{},\"id\":\"2652\",\"type\":\"BasicTickFormatter\"},{\"attributes\":{\"axis\":{\"id\":\"2627\"},\"coordinates\":null,\"grid_line_color\":null,\"group\":null,\"ticker\":null},\"id\":\"2630\",\"type\":\"Grid\"},{\"attributes\":{},\"id\":\"2635\",\"type\":\"SaveTool\"},{\"attributes\":{},\"id\":\"2625\",\"type\":\"LinearScale\"},{\"attributes\":{\"children\":[{\"id\":\"2613\"},{\"id\":\"2618\"},{\"id\":\"2780\"}],\"margin\":[0,0,0,0],\"name\":\"Row05092\",\"tags\":[\"embedded\"]},\"id\":\"2612\",\"type\":\"Row\"},{\"attributes\":{},\"id\":\"2681\",\"type\":\"UnionRenderers\"},{\"attributes\":{\"data\":{\"Actual Values\":[37,54,79,64,46,86,95,43,35,33,40,66,39,98,59,50,90,48,34,75,81,56,95,30,85,85,43,34,32,49,73,85,45,94,42,49,77,40,25,58,49,70,47,69,77,82,48,86,80,25,25,54,48,27,34,81,51,56,68,60,63,72,49,32,50,44,53,71,25,51,100,71,65,41,71,54,39,97,58,80,65,45,98,99,46,58,73,40,90,27,64,86,65,93,63,84,44,41,37,65,100,85,73,79,34,25,91,85,41,71,57,80,33,99,78,63,75,45,32,25,77,51,44,93,76,66,98,37,100,39,82,58,66,60,42,66,42,63,75,86,27,94,75,70,47,57,59,71,32,96,39,87,92,30,77,50,97,79,40,56,55,61,66,50,59,64,83,64,44,89,84,75,79,62,44,96,54,63,85,54,69,34,74,95,64,49,83,82,70,85,73,93,38,45,79,41,98,81,94,70,96,25,92,57,49,90,47,46,51,44,90,48,38,81,86,77,38,81,99,25,40,98,90,43,40,74,84,34,49,44,34,62,89,30,34,30,27,38,65,42,75,56,57,96,49,72,88,83,81,78,45,47,96,72,30,38,84,79,75,76,48,89,91,63,54,56,46,59,90,97,95,89,99,84,55,65,69,76,94,81,67,72,40,39,42,41,82,73,85,98,70,93,63,81,84,44,39,99,60,56,35,32,67,78,64,34,69,77,99,92,54,92,76,25,35,89,39,27,86,34,94,54,78,42,72,67,62,69,61,66,70,78,63,32,41,57,75,67,73,58,41,48,69,64,65,98,63,41,75,75,48,71,66,48,66,99,45,46,27,78,59,30,87,55,79,51,84,86,37,95,82,73,61,80,99,65,63,27,70,94,37,37,41,57,72,66,92,67,80,41,50,35,37,30,76,84,87,52,51,94,75,62,69,91,83,47,72,74,34,87,43,70,49,79,65,27,87,56,75,53,80,89,52,84,100,71,66,34,78,69,44,75,75,100,93,90,40,58,35,69,88,100,92,35,34,64,84,98,63,91,47,80,80,30,48,55,45,25,88,78,74,47,82,59,89,93,86,83,99,95,69,56,70,32,76,43,49,67,33,37,98,77,91,30,44,41,52,47,39,52,30,78,48,85,89,37,72,69,83,97,74,41,81,83,97,92,96,97,84,76,90,100,97,64,63,93,89,97,73,70,86,41,61,88,77,93,69,63,57,93,98,88,39,82,83,71,92,71,64,91,44,42,43,64,60,94,34,73,51,71,49,65,25,53,57,73,42,55,85,89,60,81,61,67,30,89,30,79,70,53,90,50,76,96,67,82,98,72,92,100,94,40,93,74,30,82,38,100,32,42,71,79,96,77,47,90,32,48,61,95,35,82,57,60,54,87,86,75,57,53,99,41,99,87,32,71,93,63,56,51,91,45,71,60,75,87,54,50,27,73,78,43,94,60,70,65,94,58,94],\"Actual_Values\":[37,54,79,64,46,86,95,43,35,33,40,66,39,98,59,50,90,48,34,75,81,56,95,30,85,85,43,34,32,49,73,85,45,94,42,49,77,40,25,58,49,70,47,69,77,82,48,86,80,25,25,54,48,27,34,81,51,56,68,60,63,72,49,32,50,44,53,71,25,51,100,71,65,41,71,54,39,97,58,80,65,45,98,99,46,58,73,40,90,27,64,86,65,93,63,84,44,41,37,65,100,85,73,79,34,25,91,85,41,71,57,80,33,99,78,63,75,45,32,25,77,51,44,93,76,66,98,37,100,39,82,58,66,60,42,66,42,63,75,86,27,94,75,70,47,57,59,71,32,96,39,87,92,30,77,50,97,79,40,56,55,61,66,50,59,64,83,64,44,89,84,75,79,62,44,96,54,63,85,54,69,34,74,95,64,49,83,82,70,85,73,93,38,45,79,41,98,81,94,70,96,25,92,57,49,90,47,46,51,44,90,48,38,81,86,77,38,81,99,25,40,98,90,43,40,74,84,34,49,44,34,62,89,30,34,30,27,38,65,42,75,56,57,96,49,72,88,83,81,78,45,47,96,72,30,38,84,79,75,76,48,89,91,63,54,56,46,59,90,97,95,89,99,84,55,65,69,76,94,81,67,72,40,39,42,41,82,73,85,98,70,93,63,81,84,44,39,99,60,56,35,32,67,78,64,34,69,77,99,92,54,92,76,25,35,89,39,27,86,34,94,54,78,42,72,67,62,69,61,66,70,78,63,32,41,57,75,67,73,58,41,48,69,64,65,98,63,41,75,75,48,71,66,48,66,99,45,46,27,78,59,30,87,55,79,51,84,86,37,95,82,73,61,80,99,65,63,27,70,94,37,37,41,57,72,66,92,67,80,41,50,35,37,30,76,84,87,52,51,94,75,62,69,91,83,47,72,74,34,87,43,70,49,79,65,27,87,56,75,53,80,89,52,84,100,71,66,34,78,69,44,75,75,100,93,90,40,58,35,69,88,100,92,35,34,64,84,98,63,91,47,80,80,30,48,55,45,25,88,78,74,47,82,59,89,93,86,83,99,95,69,56,70,32,76,43,49,67,33,37,98,77,91,30,44,41,52,47,39,52,30,78,48,85,89,37,72,69,83,97,74,41,81,83,97,92,96,97,84,76,90,100,97,64,63,93,89,97,73,70,86,41,61,88,77,93,69,63,57,93,98,88,39,82,83,71,92,71,64,91,44,42,43,64,60,94,34,73,51,71,49,65,25,53,57,73,42,55,85,89,60,81,61,67,30,89,30,79,70,53,90,50,76,96,67,82,98,72,92,100,94,40,93,74,30,82,38,100,32,42,71,79,96,77,47,90,32,48,61,95,35,82,57,60,54,87,86,75,57,53,99,41,99,87,32,71,93,63,56,51,91,45,71,60,75,87,54,50,27,73,78,43,94,60,70,65,94,58,94],\"Predicted Values\":{\"__ndarray__\":\"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\",\"dtype\":\"float64\",\"order\":\"little\",\"shape\":[639]},\"Predicted_Values\":{\"__ndarray__\":\"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\",\"dtype\":\"float64\",\"order\":\"little\",\"shape\":[639]}},\"selected\":{\"id\":\"2655\"},\"selection_policy\":{\"id\":\"2679\"}},\"id\":\"2654\",\"type\":\"ColumnDataSource\"},{\"attributes\":{\"coordinates\":null,\"group\":null,\"text\":\"READING r^2 score: 0.98\",\"text_color\":\"black\",\"text_font_size\":\"12pt\"},\"id\":\"2619\",\"type\":\"Title\"},{\"attributes\":{},\"id\":\"2636\",\"type\":\"PanTool\"},{\"attributes\":{\"coordinates\":null,\"data_source\":{\"id\":\"2663\"},\"glyph\":{\"id\":\"2666\"},\"group\":null,\"hover_glyph\":null,\"muted_glyph\":{\"id\":\"2668\"},\"nonselection_glyph\":{\"id\":\"2667\"},\"selection_glyph\":{\"id\":\"2671\"},\"view\":{\"id\":\"2670\"}},\"id\":\"2669\",\"type\":\"GlyphRenderer\"},{\"attributes\":{},\"id\":\"2628\",\"type\":\"BasicTicker\"},{\"attributes\":{},\"id\":\"2650\",\"type\":\"AllLabels\"},{\"attributes\":{\"data\":{\"Actual Values\":[37,54,79,64,46,86,95,43,35,33,40,66,39,98,59,50,90,48,34,75,81,56,95,30,85,85,43,34,32,49,73,85,45,94,42,49,77,40,25,58,49,70,47,69,77,82,48,86,80,25,25,54,48,27,34,81,51,56,68,60,63,72,49,32,50,44,53,71,25,51,100,71,65,41,71,54,39,97,58,80,65,45,98,99,46,58,73,40,90,27,64,86,65,93,63,84,44,41,37,65,100,85,73,79,34,25,91,85,41,71,57,80,33,99,78,63,75,45,32,25,77,51,44,93,76,66,98,37,100,39,82,58,66,60,42,66,42,63,75,86,27,94,75,70,47,57,59,71,32,96,39,87,92,30,77,50,97,79,40,56,55,61,66,50,59,64,83,64,44,89,84,75,79,62,44,96,54,63,85,54,69,34,74,95,64,49,83,82,70,85,73,93,38,45,79,41,98,81,94,70,96,25,92,57,49,90,47,46,51,44,90,48,38,81,86,77,38,81,99,25,40,98,90,43,40,74,84,34,49,44,34,62,89,30,34,30,27,38,65,42,75,56,57,96,49,72,88,83,81,78,45,47,96,72,30,38,84,79,75,76,48,89,91,63,54,56,46,59,90,97,95,89,99,84,55,65,69,76,94,81,67,72,40,39,42,41,82,73,85,98,70,93,63,81,84,44,39,99,60,56,35,32,67,78,64,34,69,77,99,92,54,92,76,25,35,89,39,27,86,34,94,54,78,42,72,67,62,69,61,66,70,78,63,32,41,57,75,67,73,58,41,48,69,64,65,98,63,41,75,75,48,71,66,48,66,99,45,46,27,78,59,30,87,55,79,51,84,86,37,95,82,73,61,80,99,65,63,27,70,94,37,37,41,57,72,66,92,67,80,41,50,35,37,30,76,84,87,52,51,94,75,62,69,91,83,47,72,74,34,87,43,70,49,79,65,27,87,56,75,53,80,89,52,84,100,71,66,34,78,69,44,75,75,100,93,90,40,58,35,69,88,100,92,35,34,64,84,98,63,91,47,80,80,30,48,55,45,25,88,78,74,47,82,59,89,93,86,83,99,95,69,56,70,32,76,43,49,67,33,37,98,77,91,30,44,41,52,47,39,52,30,78,48,85,89,37,72,69,83,97,74,41,81,83,97,92,96,97,84,76,90,100,97,64,63,93,89,97,73,70,86,41,61,88,77,93,69,63,57,93,98,88,39,82,83,71,92,71,64,91,44,42,43,64,60,94,34,73,51,71,49,65,25,53,57,73,42,55,85,89,60,81,61,67,30,89,30,79,70,53,90,50,76,96,67,82,98,72,92,100,94,40,93,74,30,82,38,100,32,42,71,79,96,77,47,90,32,48,61,95,35,82,57,60,54,87,86,75,57,53,99,41,99,87,32,71,93,63,56,51,91,45,71,60,75,87,54,50,27,73,78,43,94,60,70,65,94,58,94],\"Actual_Values\":[37,54,79,64,46,86,95,43,35,33,40,66,39,98,59,50,90,48,34,75,81,56,95,30,85,85,43,34,32,49,73,85,45,94,42,49,77,40,25,58,49,70,47,69,77,82,48,86,80,25,25,54,48,27,34,81,51,56,68,60,63,72,49,32,50,44,53,71,25,51,100,71,65,41,71,54,39,97,58,80,65,45,98,99,46,58,73,40,90,27,64,86,65,93,63,84,44,41,37,65,100,85,73,79,34,25,91,85,41,71,57,80,33,99,78,63,75,45,32,25,77,51,44,93,76,66,98,37,100,39,82,58,66,60,42,66,42,63,75,86,27,94,75,70,47,57,59,71,32,96,39,87,92,30,77,50,97,79,40,56,55,61,66,50,59,64,83,64,44,89,84,75,79,62,44,96,54,63,85,54,69,34,74,95,64,49,83,82,70,85,73,93,38,45,79,41,98,81,94,70,96,25,92,57,49,90,47,46,51,44,90,48,38,81,86,77,38,81,99,25,40,98,90,43,40,74,84,34,49,44,34,62,89,30,34,30,27,38,65,42,75,56,57,96,49,72,88,83,81,78,45,47,96,72,30,38,84,79,75,76,48,89,91,63,54,56,46,59,90,97,95,89,99,84,55,65,69,76,94,81,67,72,40,39,42,41,82,73,85,98,70,93,63,81,84,44,39,99,60,56,35,32,67,78,64,34,69,77,99,92,54,92,76,25,35,89,39,27,86,34,94,54,78,42,72,67,62,69,61,66,70,78,63,32,41,57,75,67,73,58,41,48,69,64,65,98,63,41,75,75,48,71,66,48,66,99,45,46,27,78,59,30,87,55,79,51,84,86,37,95,82,73,61,80,99,65,63,27,70,94,37,37,41,57,72,66,92,67,80,41,50,35,37,30,76,84,87,52,51,94,75,62,69,91,83,47,72,74,34,87,43,70,49,79,65,27,87,56,75,53,80,89,52,84,100,71,66,34,78,69,44,75,75,100,93,90,40,58,35,69,88,100,92,35,34,64,84,98,63,91,47,80,80,30,48,55,45,25,88,78,74,47,82,59,89,93,86,83,99,95,69,56,70,32,76,43,49,67,33,37,98,77,91,30,44,41,52,47,39,52,30,78,48,85,89,37,72,69,83,97,74,41,81,83,97,92,96,97,84,76,90,100,97,64,63,93,89,97,73,70,86,41,61,88,77,93,69,63,57,93,98,88,39,82,83,71,92,71,64,91,44,42,43,64,60,94,34,73,51,71,49,65,25,53,57,73,42,55,85,89,60,81,61,67,30,89,30,79,70,53,90,50,76,96,67,82,98,72,92,100,94,40,93,74,30,82,38,100,32,42,71,79,96,77,47,90,32,48,61,95,35,82,57,60,54,87,86,75,57,53,99,41,99,87,32,71,93,63,56,51,91,45,71,60,75,87,54,50,27,73,78,43,94,60,70,65,94,58,94],\"Predicted Values\":{\"__ndarray__\":\"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\",\"dtype\":\"float64\",\"order\":\"little\",\"shape\":[639]},\"Predicted_Values\":{\"__ndarray__\":\"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\",\"dtype\":\"float64\",\"order\":\"little\",\"shape\":[639]}},\"selected\":{\"id\":\"2664\"},\"selection_policy\":{\"id\":\"2681\"}},\"id\":\"2663\",\"type\":\"ColumnDataSource\"},{\"attributes\":{},\"id\":\"2637\",\"type\":\"WheelZoomTool\"},{\"attributes\":{},\"id\":\"2649\",\"type\":\"BasicTickFormatter\"},{\"attributes\":{\"axis_label\":\"Predicted Values\",\"coordinates\":null,\"formatter\":{\"id\":\"2652\"},\"group\":null,\"major_label_policy\":{\"id\":\"2653\"},\"ticker\":{\"id\":\"2632\"}},\"id\":\"2631\",\"type\":\"LinearAxis\"},{\"attributes\":{\"source\":{\"id\":\"2663\"}},\"id\":\"2670\",\"type\":\"CDSView\"},{\"attributes\":{},\"id\":\"2632\",\"type\":\"BasicTicker\"},{\"attributes\":{\"line_alpha\":0.2,\"line_color\":\"red\",\"line_width\":2,\"x\":{\"field\":\"Actual Values\"},\"y\":{\"field\":\"Predicted Values\"}},\"id\":\"2668\",\"type\":\"Line\"},{\"attributes\":{\"overlay\":{\"id\":\"2640\"}},\"id\":\"2638\",\"type\":\"BoxZoomTool\"}],\"root_ids\":[\"2612\"]},\"title\":\"Bokeh Application\",\"version\":\"2.4.2\"}};\n",
       "    var render_items = [{\"docid\":\"d33ad62c-a338-4f63-837f-cdc9181cdc11\",\"root_ids\":[\"2612\"],\"roots\":{\"2612\":\"aa46c274-bcaf-4136-a909-0281ee267e71\"}}];\n",
       "    root.Bokeh.embed.embed_items_notebook(docs_json, render_items);\n",
       "  }\n",
       "  if (root.Bokeh !== undefined && root.Bokeh.Panel !== undefined) {\n",
       "    embed_document(root);\n",
       "  } else {\n",
       "    var attempts = 0;\n",
       "    var timer = setInterval(function(root) {\n",
       "      if (root.Bokeh !== undefined && root.Bokeh.Panel !== undefined) {\n",
       "        clearInterval(timer);\n",
       "        embed_document(root);\n",
       "      } else if (document.readyState == \"complete\") {\n",
       "        attempts++;\n",
       "        if (attempts > 200) {\n",
       "          clearInterval(timer);\n",
       "          console.log(\"Bokeh: ERROR: Unable to run BokehJS code because BokehJS library is missing\");\n",
       "        }\n",
       "      }\n",
       "    }, 25, root)\n",
       "  }\n",
       "})(window);</script>"
      ],
      "text/plain": [
       ":Overlay\n",
       "   .Scatter.I :Scatter   [Actual Values]   (Predicted Values)\n",
       "   .Curve.I   :Curve   [Actual Values]   (Predicted Values)"
      ]
     },
     "execution_count": 29,
     "metadata": {
      "application/vnd.holoviews_exec.v0+json": {
       "id": "2612"
      }
     },
     "output_type": "execute_result"
    }
   ],
   "source": [
    "# Convert the y_test and y_pred arrays to a DataFrame\n",
    "df = pd.DataFrame({\"Actual Values\": y_test, \"Predicted Values\": y_pred})\n",
    "\n",
    "# Fit a polynomial regression model to the data\n",
    "p = np.polyfit(df[\"Actual Values\"], df[\"Predicted Values\"], 1)\n",
    "reg_line = np.polyval(p, df[\"Actual Values\"])\n",
    "\n",
    "# Create an hvplot scatter plot with a regression line\n",
    "scatter_plot = df.hvplot.scatter(x=\"Actual Values\", y=\"Predicted Values\", title=f\"READING r^2 score: {r2:.2f}\")\n",
    "reg_line_plot = pd.DataFrame({\"Actual Values\": df[\"Actual Values\"], \"Predicted Values\": reg_line}).hvplot.line(x=\"Actual Values\", y=\"Predicted Values\", color=\"red\")\n",
    "scatter_plot * reg_line_plot"
   ]
  },
  {
   "cell_type": "code",
   "execution_count": 30,
   "metadata": {},
   "outputs": [
    {
     "name": "stdout",
     "output_type": "stream",
     "text": [
      "Predicted reading score: 90.0\n"
     ]
    },
    {
     "name": "stderr",
     "output_type": "stream",
     "text": [
      "c:\\Users\\msmar\\anaconda3\\lib\\site-packages\\sklearn\\base.py:443: UserWarning: X has feature names, but DecisionTreeRegressor was fitted without feature names\n",
      "  warnings.warn(\n"
     ]
    }
   ],
   "source": [
    "# Create a dictionary with the input values\n",
    "new_data = {\n",
    "    \"gender\": 1,\n",
    "    \"race/ethnicity\": 3,\n",
    "    \"parental level of education\": 5,\n",
    "    \"lunch\": 1,\n",
    "    \"test preparation course\": 0,\n",
    "    \"math score\": [82],\n",
    "    \"writing score\": [88]\n",
    "}\n",
    "\n",
    "# Convert the dictionary into a DataFrame\n",
    "new_df = pd.DataFrame(new_data)\n",
    "\n",
    "# Make a prediction using new_df\n",
    "reading_pred = dtr.predict(new_df)\n",
    "\n",
    "# Print the predicted writing score\n",
    "print(\"Predicted reading score:\", reading_pred[0])\n",
    "# Actual score: 91 (less by 5) - RUS (lestt by 1) - ROS"
   ]
  },
  {
   "attachments": {},
   "cell_type": "markdown",
   "metadata": {},
   "source": [
    "**Reading Scores Analysis - ROS**\n",
    "<hr>\n",
    "An r2 score of 0.98 (98%) shows the model is a good fit for the data and can be used to make accurate predictions. However, it is import to note that the remaining 2% of the variance is unexplained and may be due to factors that are not included in the model. When we provided a new set of features to the model, it predicted a reading score of 90, but the actual score was 91. "
   ]
  },
  {
   "attachments": {},
   "cell_type": "markdown",
   "metadata": {},
   "source": [
    "## Writing Scores"
   ]
  },
  {
   "cell_type": "code",
   "execution_count": 31,
   "metadata": {},
   "outputs": [
    {
     "name": "stdout",
     "output_type": "stream",
     "text": [
      "WRITING R-Squared score: 0.94\n"
     ]
    }
   ],
   "source": [
    "# Split data into features and target arrays \n",
    "y = df2[\"writing score\"].values\n",
    "X = df2.drop(columns=\"writing score\").values\n",
    "\n",
    "# Instantiate the random undersampler model and fit the data \n",
    "rus = RandomUnderSampler(random_state=42)\n",
    "X_resampled, y_resampled = rus.fit_resample(X, y) \n",
    "\n",
    "# Split data into training and testing dataset \n",
    "X_train, X_test, y_train, y_test = train_test_split(X_resampled, y_resampled, random_state=42)\n",
    "\n",
    "# Instantiate the DecisionTreeRegressor and fit the data \n",
    "dtr = DecisionTreeRegressor(random_state=42)\n",
    "dtr.fit(X_train, y_train)\n",
    "\n",
    "# Make a prediction using X_test\n",
    "y_pred = dtr.predict(X_test)\n",
    "\n",
    "# Find the R-Squared score\n",
    "r2 = r2_score(y_test, y_pred)\n",
    "print(\"WRITING R-Squared score:\", round(r2, 2))"
   ]
  },
  {
   "cell_type": "code",
   "execution_count": 32,
   "metadata": {},
   "outputs": [
    {
     "data": {},
     "metadata": {},
     "output_type": "display_data"
    },
    {
     "data": {
      "application/vnd.holoviews_exec.v0+json": "",
      "text/html": [
       "<div id='2842'>\n",
       "\n",
       "\n",
       "\n",
       "\n",
       "\n",
       "  <div class=\"bk-root\" id=\"b9678bdd-e700-4004-b97f-f8572523582e\" data-root-id=\"2842\"></div>\n",
       "</div>\n",
       "<script type=\"application/javascript\">(function(root) {\n",
       "  function embed_document(root) {\n",
       "    var docs_json = {\"6a4d3628-f42f-450f-a6e7-515e6a2f5488\":{\"defs\":[{\"extends\":null,\"module\":null,\"name\":\"ReactiveHTML1\",\"overrides\":[],\"properties\":[]},{\"extends\":null,\"module\":null,\"name\":\"FlexBox1\",\"overrides\":[],\"properties\":[{\"default\":\"flex-start\",\"kind\":null,\"name\":\"align_content\"},{\"default\":\"flex-start\",\"kind\":null,\"name\":\"align_items\"},{\"default\":\"row\",\"kind\":null,\"name\":\"flex_direction\"},{\"default\":\"wrap\",\"kind\":null,\"name\":\"flex_wrap\"},{\"default\":\"flex-start\",\"kind\":null,\"name\":\"justify_content\"}]},{\"extends\":null,\"module\":null,\"name\":\"TemplateActions1\",\"overrides\":[],\"properties\":[{\"default\":0,\"kind\":null,\"name\":\"open_modal\"},{\"default\":0,\"kind\":null,\"name\":\"close_modal\"}]},{\"extends\":null,\"module\":null,\"name\":\"MaterialTemplateActions1\",\"overrides\":[],\"properties\":[{\"default\":0,\"kind\":null,\"name\":\"open_modal\"},{\"default\":0,\"kind\":null,\"name\":\"close_modal\"}]}],\"roots\":{\"references\":[{\"attributes\":{},\"id\":\"2867\",\"type\":\"WheelZoomTool\"},{\"attributes\":{\"margin\":[5,5,5,5],\"name\":\"HSpacer05580\",\"sizing_mode\":\"stretch_width\"},\"id\":\"2843\",\"type\":\"Spacer\"},{\"attributes\":{},\"id\":\"2855\",\"type\":\"LinearScale\"},{\"attributes\":{\"children\":[{\"id\":\"2843\"},{\"id\":\"2848\"},{\"id\":\"3010\"}],\"margin\":[0,0,0,0],\"name\":\"Row05576\",\"tags\":[\"embedded\"]},\"id\":\"2842\",\"type\":\"Row\"},{\"attributes\":{\"coordinates\":null,\"group\":null,\"text\":\"WRITING r^2 score: 0.94\",\"text_color\":\"black\",\"text_font_size\":\"12pt\"},\"id\":\"2849\",\"type\":\"Title\"},{\"attributes\":{\"coordinates\":null,\"data_source\":{\"id\":\"2893\"},\"glyph\":{\"id\":\"2896\"},\"group\":null,\"hover_glyph\":null,\"muted_glyph\":{\"id\":\"2898\"},\"nonselection_glyph\":{\"id\":\"2897\"},\"selection_glyph\":{\"id\":\"2901\"},\"view\":{\"id\":\"2900\"}},\"id\":\"2899\",\"type\":\"GlyphRenderer\"},{\"attributes\":{},\"id\":\"2866\",\"type\":\"PanTool\"},{\"attributes\":{\"axis_label\":\"Predicted Values\",\"coordinates\":null,\"formatter\":{\"id\":\"2882\"},\"group\":null,\"major_label_policy\":{\"id\":\"2883\"},\"ticker\":{\"id\":\"2862\"}},\"id\":\"2861\",\"type\":\"LinearAxis\"},{\"attributes\":{\"line_alpha\":0.2,\"line_color\":\"red\",\"line_width\":2,\"x\":{\"field\":\"Actual Values\"},\"y\":{\"field\":\"Predicted Values\"}},\"id\":\"2898\",\"type\":\"Line\"},{\"attributes\":{},\"id\":\"2865\",\"type\":\"SaveTool\"},{\"attributes\":{},\"id\":\"2879\",\"type\":\"BasicTickFormatter\"},{\"attributes\":{\"axis\":{\"id\":\"2861\"},\"coordinates\":null,\"dimension\":1,\"grid_line_color\":null,\"group\":null,\"ticker\":null},\"id\":\"2864\",\"type\":\"Grid\"},{\"attributes\":{},\"id\":\"2911\",\"type\":\"UnionRenderers\"},{\"attributes\":{\"source\":{\"id\":\"2893\"}},\"id\":\"2900\",\"type\":\"CDSView\"},{\"attributes\":{},\"id\":\"2880\",\"type\":\"AllLabels\"},{\"attributes\":{\"data\":{\"Actual Values\":[27,90,45,15,55,100,36,61,38,82,92,58,35,72,28,49,84,77,60],\"Actual_Values\":[27,90,45,15,55,100,36,61,38,82,92,58,35,72,28,49,84,77,60],\"Predicted Values\":{\"__ndarray__\":\"AAAAAACAQkAAAAAAAEBWQAAAAAAAgEpAAAAAAAAAOkAAAAAAAIBNQAAAAAAAwFhAAAAAAACAQEAAAAAAAIBNQAAAAAAAgERAAAAAAACAV0AAAAAAAEBXQAAAAAAAgE1AAAAAAAAARUAAAAAAAMBTQAAAAAAAgEJAAAAAAAAARkAAAAAAAEBVQAAAAAAAwFRAAAAAAACATUA=\",\"dtype\":\"float64\",\"order\":\"little\",\"shape\":[19]},\"Predicted_Values\":{\"__ndarray__\":\"AAAAAACAQkAAAAAAAEBWQAAAAAAAgEpAAAAAAAAAOkAAAAAAAIBNQAAAAAAAwFhAAAAAAACAQEAAAAAAAIBNQAAAAAAAgERAAAAAAACAV0AAAAAAAEBXQAAAAAAAgE1AAAAAAAAARUAAAAAAAMBTQAAAAAAAgEJAAAAAAAAARkAAAAAAAEBVQAAAAAAAwFRAAAAAAACATUA=\",\"dtype\":\"float64\",\"order\":\"little\",\"shape\":[19]}},\"selected\":{\"id\":\"2885\"},\"selection_policy\":{\"id\":\"2909\"}},\"id\":\"2884\",\"type\":\"ColumnDataSource\"},{\"attributes\":{},\"id\":\"2862\",\"type\":\"BasicTicker\"},{\"attributes\":{\"fill_alpha\":{\"value\":0.2},\"fill_color\":{\"value\":\"#30a2da\"},\"hatch_alpha\":{\"value\":0.2},\"hatch_color\":{\"value\":\"#30a2da\"},\"line_alpha\":{\"value\":0.2},\"line_color\":{\"value\":\"#30a2da\"},\"size\":{\"value\":5.477225575051661},\"x\":{\"field\":\"Actual Values\"},\"y\":{\"field\":\"Predicted Values\"}},\"id\":\"2889\",\"type\":\"Scatter\"},{\"attributes\":{\"overlay\":{\"id\":\"2870\"}},\"id\":\"2868\",\"type\":\"BoxZoomTool\"},{\"attributes\":{},\"id\":\"2883\",\"type\":\"AllLabels\"},{\"attributes\":{},\"id\":\"2869\",\"type\":\"ResetTool\"},{\"attributes\":{},\"id\":\"2882\",\"type\":\"BasicTickFormatter\"},{\"attributes\":{\"bottom_units\":\"screen\",\"coordinates\":null,\"fill_alpha\":0.5,\"fill_color\":\"lightgrey\",\"group\":null,\"left_units\":\"screen\",\"level\":\"overlay\",\"line_alpha\":1.0,\"line_color\":\"black\",\"line_dash\":[4,4],\"line_width\":2,\"right_units\":\"screen\",\"syncable\":false,\"top_units\":\"screen\"},\"id\":\"2870\",\"type\":\"BoxAnnotation\"},{\"attributes\":{\"tools\":[{\"id\":\"2846\"},{\"id\":\"2865\"},{\"id\":\"2866\"},{\"id\":\"2867\"},{\"id\":\"2868\"},{\"id\":\"2869\"}]},\"id\":\"2871\",\"type\":\"Toolbar\"},{\"attributes\":{\"end\":108.37343018205166,\"reset_end\":108.37343018205166,\"reset_start\":13.766946951956502,\"start\":13.766946951956502,\"tags\":[[[\"Predicted Values\",\"Predicted Values\",null]]]},\"id\":\"2845\",\"type\":\"Range1d\"},{\"attributes\":{\"line_color\":\"red\",\"line_width\":2,\"x\":{\"field\":\"Actual Values\"},\"y\":{\"field\":\"Predicted Values\"}},\"id\":\"2896\",\"type\":\"Line\"},{\"attributes\":{\"angle\":{\"value\":0.0},\"fill_alpha\":{\"value\":1.0},\"fill_color\":{\"value\":\"#30a2da\"},\"hatch_alpha\":{\"value\":1.0},\"hatch_color\":{\"value\":\"#30a2da\"},\"hatch_scale\":{\"value\":12.0},\"hatch_weight\":{\"value\":1.0},\"line_alpha\":{\"value\":1.0},\"line_cap\":{\"value\":\"butt\"},\"line_color\":{\"value\":\"#30a2da\"},\"line_dash\":{\"value\":[]},\"line_dash_offset\":{\"value\":0},\"line_join\":{\"value\":\"bevel\"},\"line_width\":{\"value\":1},\"marker\":{\"value\":\"circle\"},\"size\":{\"value\":5.477225575051661},\"x\":{\"field\":\"Actual Values\"},\"y\":{\"field\":\"Predicted Values\"}},\"id\":\"2892\",\"type\":\"Scatter\"},{\"attributes\":{\"below\":[{\"id\":\"2857\"}],\"center\":[{\"id\":\"2860\"},{\"id\":\"2864\"}],\"height\":300,\"left\":[{\"id\":\"2861\"}],\"margin\":[5,5,5,5],\"min_border_bottom\":10,\"min_border_left\":10,\"min_border_right\":10,\"min_border_top\":10,\"renderers\":[{\"id\":\"2890\"},{\"id\":\"2899\"}],\"sizing_mode\":\"fixed\",\"title\":{\"id\":\"2849\"},\"toolbar\":{\"id\":\"2871\"},\"width\":700,\"x_range\":{\"id\":\"2844\"},\"x_scale\":{\"id\":\"2853\"},\"y_range\":{\"id\":\"2845\"},\"y_scale\":{\"id\":\"2855\"}},\"id\":\"2848\",\"subtype\":\"Figure\",\"type\":\"Plot\"},{\"attributes\":{\"fill_alpha\":{\"value\":0.1},\"fill_color\":{\"value\":\"#30a2da\"},\"hatch_alpha\":{\"value\":0.1},\"hatch_color\":{\"value\":\"#30a2da\"},\"line_alpha\":{\"value\":0.1},\"line_color\":{\"value\":\"#30a2da\"},\"size\":{\"value\":5.477225575051661},\"x\":{\"field\":\"Actual Values\"},\"y\":{\"field\":\"Predicted Values\"}},\"id\":\"2888\",\"type\":\"Scatter\"},{\"attributes\":{\"axis\":{\"id\":\"2857\"},\"coordinates\":null,\"grid_line_color\":null,\"group\":null,\"ticker\":null},\"id\":\"2860\",\"type\":\"Grid\"},{\"attributes\":{\"source\":{\"id\":\"2884\"}},\"id\":\"2891\",\"type\":\"CDSView\"},{\"attributes\":{\"line_alpha\":0.1,\"line_color\":\"red\",\"line_width\":2,\"x\":{\"field\":\"Actual Values\"},\"y\":{\"field\":\"Predicted Values\"}},\"id\":\"2897\",\"type\":\"Line\"},{\"attributes\":{\"data\":{\"Actual Values\":[27,90,45,15,55,100,36,61,38,82,92,58,35,72,28,49,84,77,60],\"Actual_Values\":[27,90,45,15,55,100,36,61,38,82,92,58,35,72,28,49,84,77,60],\"Predicted Values\":{\"__ndarray__\":\"NZpXpfdjQEB9NZvpuM1WQJJDl/v1vEhARP0ELZymNUDiL57yLWBNQKWrHuVUH1lA5G530HaQREDWXgRdQRRQQCaeRWjofUVA99b+udXyVEAfTYK1cURXQMZ2U1ZYxE5AQleQBL4ZREDPYHu+OaFSQNaxPnGw2kBAGKIzK9mXSkCZ7uWFjmlVQOMbPbwHylNACqYh7smxT0A=\",\"dtype\":\"float64\",\"order\":\"little\",\"shape\":[19]},\"Predicted_Values\":{\"__ndarray__\":\"NZpXpfdjQEB9NZvpuM1WQJJDl/v1vEhARP0ELZymNUDiL57yLWBNQKWrHuVUH1lA5G530HaQREDWXgRdQRRQQCaeRWjofUVA99b+udXyVEAfTYK1cURXQMZ2U1ZYxE5AQleQBL4ZREDPYHu+OaFSQNaxPnGw2kBAGKIzK9mXSkCZ7uWFjmlVQOMbPbwHylNACqYh7smxT0A=\",\"dtype\":\"float64\",\"order\":\"little\",\"shape\":[19]}},\"selected\":{\"id\":\"2894\"},\"selection_policy\":{\"id\":\"2911\"}},\"id\":\"2893\",\"type\":\"ColumnDataSource\"},{\"attributes\":{\"end\":103.64285714285714,\"reset_end\":103.64285714285714,\"reset_start\":11.357142857142858,\"start\":11.357142857142858,\"tags\":[[[\"Actual Values\",\"Actual Values\",null]]]},\"id\":\"2844\",\"type\":\"Range1d\"},{\"attributes\":{},\"id\":\"2885\",\"type\":\"Selection\"},{\"attributes\":{\"coordinates\":null,\"data_source\":{\"id\":\"2884\"},\"glyph\":{\"id\":\"2887\"},\"group\":null,\"hover_glyph\":null,\"muted_glyph\":{\"id\":\"2889\"},\"nonselection_glyph\":{\"id\":\"2888\"},\"selection_glyph\":{\"id\":\"2892\"},\"view\":{\"id\":\"2891\"}},\"id\":\"2890\",\"type\":\"GlyphRenderer\"},{\"attributes\":{\"line_color\":\"red\",\"line_width\":2,\"x\":{\"field\":\"Actual Values\"},\"y\":{\"field\":\"Predicted Values\"}},\"id\":\"2901\",\"type\":\"Line\"},{\"attributes\":{\"margin\":[5,5,5,5],\"name\":\"HSpacer05581\",\"sizing_mode\":\"stretch_width\"},\"id\":\"3010\",\"type\":\"Spacer\"},{\"attributes\":{},\"id\":\"2858\",\"type\":\"BasicTicker\"},{\"attributes\":{\"fill_color\":{\"value\":\"#30a2da\"},\"hatch_color\":{\"value\":\"#30a2da\"},\"line_color\":{\"value\":\"#30a2da\"},\"size\":{\"value\":5.477225575051661},\"x\":{\"field\":\"Actual Values\"},\"y\":{\"field\":\"Predicted Values\"}},\"id\":\"2887\",\"type\":\"Scatter\"},{\"attributes\":{\"callback\":null,\"renderers\":[{\"id\":\"2890\"},{\"id\":\"2899\"}],\"tags\":[\"hv_created\"],\"tooltips\":[[\"Actual Values\",\"@{Actual_Values}\"],[\"Predicted Values\",\"@{Predicted_Values}\"]]},\"id\":\"2846\",\"type\":\"HoverTool\"},{\"attributes\":{},\"id\":\"2909\",\"type\":\"UnionRenderers\"},{\"attributes\":{\"axis_label\":\"Actual Values\",\"coordinates\":null,\"formatter\":{\"id\":\"2879\"},\"group\":null,\"major_label_policy\":{\"id\":\"2880\"},\"ticker\":{\"id\":\"2858\"}},\"id\":\"2857\",\"type\":\"LinearAxis\"},{\"attributes\":{},\"id\":\"2894\",\"type\":\"Selection\"},{\"attributes\":{},\"id\":\"2853\",\"type\":\"LinearScale\"}],\"root_ids\":[\"2842\"]},\"title\":\"Bokeh Application\",\"version\":\"2.4.2\"}};\n",
       "    var render_items = [{\"docid\":\"6a4d3628-f42f-450f-a6e7-515e6a2f5488\",\"root_ids\":[\"2842\"],\"roots\":{\"2842\":\"b9678bdd-e700-4004-b97f-f8572523582e\"}}];\n",
       "    root.Bokeh.embed.embed_items_notebook(docs_json, render_items);\n",
       "  }\n",
       "  if (root.Bokeh !== undefined && root.Bokeh.Panel !== undefined) {\n",
       "    embed_document(root);\n",
       "  } else {\n",
       "    var attempts = 0;\n",
       "    var timer = setInterval(function(root) {\n",
       "      if (root.Bokeh !== undefined && root.Bokeh.Panel !== undefined) {\n",
       "        clearInterval(timer);\n",
       "        embed_document(root);\n",
       "      } else if (document.readyState == \"complete\") {\n",
       "        attempts++;\n",
       "        if (attempts > 200) {\n",
       "          clearInterval(timer);\n",
       "          console.log(\"Bokeh: ERROR: Unable to run BokehJS code because BokehJS library is missing\");\n",
       "        }\n",
       "      }\n",
       "    }, 25, root)\n",
       "  }\n",
       "})(window);</script>"
      ],
      "text/plain": [
       ":Overlay\n",
       "   .Scatter.I :Scatter   [Actual Values]   (Predicted Values)\n",
       "   .Curve.I   :Curve   [Actual Values]   (Predicted Values)"
      ]
     },
     "execution_count": 32,
     "metadata": {
      "application/vnd.holoviews_exec.v0+json": {
       "id": "2842"
      }
     },
     "output_type": "execute_result"
    }
   ],
   "source": [
    "# Convert the y_test and y_pred arrays to a DataFrame\n",
    "df = pd.DataFrame({\"Actual Values\": y_test, \"Predicted Values\": y_pred})\n",
    "\n",
    "# Fit a polynomial regression model to the data\n",
    "p = np.polyfit(df[\"Actual Values\"], df[\"Predicted Values\"], 1)\n",
    "reg_line = np.polyval(p, df[\"Actual Values\"])\n",
    "\n",
    "# Create an hvplot scatter plot with a regression line\n",
    "scatter_plot = df.hvplot.scatter(x=\"Actual Values\", y=\"Predicted Values\", title=f\"WRITING r^2 score: {r2:.2f}\")\n",
    "reg_line_plot = pd.DataFrame({\"Actual Values\": df[\"Actual Values\"], \"Predicted Values\": reg_line}).hvplot.line(x=\"Actual Values\", y=\"Predicted Values\", color=\"red\")\n",
    "scatter_plot * reg_line_plot"
   ]
  },
  {
   "cell_type": "code",
   "execution_count": 33,
   "metadata": {},
   "outputs": [
    {
     "name": "stdout",
     "output_type": "stream",
     "text": [
      "Predicted writing score: 96.0\n"
     ]
    },
    {
     "name": "stderr",
     "output_type": "stream",
     "text": [
      "c:\\Users\\msmar\\anaconda3\\lib\\site-packages\\sklearn\\base.py:443: UserWarning: X has feature names, but DecisionTreeRegressor was fitted without feature names\n",
      "  warnings.warn(\n"
     ]
    }
   ],
   "source": [
    "\n",
    "# Create a dictionary with the input values\n",
    "new_data = {\n",
    "    \"gender\": 1,\n",
    "    \"race/ethnicity\": 3,\n",
    "    \"parental level of education\": 5,\n",
    "    \"lunch\": 0,\n",
    "    \"test preparation course\": 0,\n",
    "    \"math score\": [82],\n",
    "    \"reading score\": [91]\n",
    "}\n",
    "\n",
    "# Convert the dictionary into a DataFrame\n",
    "new_df = pd.DataFrame(new_data)\n",
    "\n",
    "# Use the trained model to make a prediction for the input data\n",
    "writing_pred = dtr.predict(new_df)\n",
    "\n",
    "# Print the predicted writing score\n",
    "print(\"Predicted writing score:\", writing_pred[0])\n",
    "# Actual score: 88 (more by 8)"
   ]
  },
  {
   "attachments": {},
   "cell_type": "markdown",
   "metadata": {},
   "source": [
    "**Writing Scores Analysis**\n",
    "<hr>\n",
    "An r2 score of 0.94 (94%) shows the model is a good fit for the data and can be used to make accurate predictions. However, it is import to note that the remaining 6% of the variance is unexplained and may be due to factors that are not included in the model. When we provided a new set of features to the model, it predicted a math score of 96, but the actual score was 88. "
   ]
  }
 ],
 "metadata": {
  "kernelspec": {
   "display_name": "base",
   "language": "python",
   "name": "python3"
  },
  "language_info": {
   "codemirror_mode": {
    "name": "ipython",
    "version": 3
   },
   "file_extension": ".py",
   "mimetype": "text/x-python",
   "name": "python",
   "nbconvert_exporter": "python",
   "pygments_lexer": "ipython3",
   "version": "3.9.12"
  },
  "orig_nbformat": 4
 },
 "nbformat": 4,
 "nbformat_minor": 2
}
